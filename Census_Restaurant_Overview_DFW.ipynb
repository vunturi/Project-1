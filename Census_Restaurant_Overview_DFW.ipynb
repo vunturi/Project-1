{
 "cells": [
  {
   "cell_type": "markdown",
   "metadata": {},
   "source": [
    "# Census Demographics & Restaraunt Info"
   ]
  },
  {
   "cell_type": "code",
   "execution_count": null,
   "metadata": {},
   "outputs": [],
   "source": [
    "# Dependencies\n",
    "import matplotlib.pyplot as plt\n",
    "import gmaps\n",
    "import numpy as np\n",
    "import pandas as pd\n",
    "import requests\n",
    "import time\n",
    "import json\n",
    "from census import Census\n",
    "from jconfig import (api_key, gkey)\n",
    "from uszipcode import SearchEngine, SimpleZipcode, Zipcode\n",
    "\n",
    "\n",
    "# Census API Key\n",
    "c = Census(api_key, year=2017)"
   ]
  },
  {
   "cell_type": "markdown",
   "metadata": {},
   "source": [
    "# Define target Market Areas and create DataFrame "
   ]
  },
  {
   "cell_type": "code",
   "execution_count": null,
   "metadata": {},
   "outputs": [],
   "source": [
    "#read in zip.csv\n",
    "zip_pd = pd.read_csv(\"zip.csv\")\n",
    "\n",
    "#clear any null values\n",
    "zip_pd.dropna(inplace= True)\n",
    "\n",
    "#filter df to only include standard zip codes(exclude unique and p.o. boxes)\n",
    "std_pd= zip_pd.loc[zip_pd.Type==\"Standard\"]"
   ]
  },
  {
   "cell_type": "code",
   "execution_count": null,
   "metadata": {},
   "outputs": [],
   "source": [
    "#filter to only include zip codes in Dallas County\n",
    "county_zip_pd= std_pd.loc[(std_pd[\"County\"]== \"Dallas\") | (std_pd[\"County\"]== \"Tarrant\") | (std_pd[\"County\"]== \"Collin\") | (std_pd[\"County\"]== \"Denton\")]\n",
    "\n",
    "#extract all zip codes in Dallas County to a list\n",
    "county_zips = county_zip_pd[\"Zip Code\"].tolist()\n",
    "city_zips = county_zip_pd[\"City\"].tolist()\n",
    "\n",
    "#create lists for lat and long per zip code\n",
    "lat=[]\n",
    "long=[]\n",
    "for z in county_zips:\n",
    "    search= SearchEngine()\n",
    "    zipcode= search.by_zipcode(z)\n",
    "    latitude= zipcode.lat\n",
    "    lat.append(latitude)\n",
    "    longitude= zipcode.lng\n",
    "    long.append(longitude)\n",
    "    \n",
    "#create dictionary\n",
    "county_zips_dict={\"City\": city_zips,\"Zip_Codes\": county_zips,\"Lat\":lat, \"Lon\":long}\n",
    "\n",
    "#convert list to DF in order to merge later with Census data\n",
    "county_zip_df= pd.DataFrame(county_zips_dict)\n",
    "county_zip_df.head()"
   ]
  },
  {
   "cell_type": "code",
   "execution_count": null,
   "metadata": {},
   "outputs": [],
   "source": [
    "# Save as a csv\n",
    "# Note to avoid any issues later, use encoding=\"utf-8\"\n",
    "county_zip_df.to_csv(\"CityCounty_zip_data.csv\", encoding=\"utf-8\", index=False)"
   ]
  },
  {
   "cell_type": "markdown",
   "metadata": {},
   "source": [
    "# Create Census DataFrame for target Market Areas"
   ]
  },
  {
   "cell_type": "code",
   "execution_count": null,
   "metadata": {},
   "outputs": [],
   "source": [
    "# Run Census Search to retrieve data on all cities\n",
    "census_data = c.acs5.get((\"NAME\", \"B19013_001E\", \"B01003_001E\", \"B01002_001E\",\n",
    "                          \"B19301_001E\"), {'for': 'zip code tabulation area:*'})\n",
    "\n",
    "# Convert to DataFrame\n",
    "census_pd = pd.DataFrame(census_data)\n",
    "\n",
    "# Column Reordering\n",
    "census_pd = census_pd.rename(columns={\"B01003_001E\": \"Population\",\n",
    "                                      \"B01002_001E\": \"Median Age\",\n",
    "                                      \"B19013_001E\": \"Household Income\",\n",
    "                                      \"B19301_001E\": \"Per Capita Income\",\n",
    "                                      \"NAME\": \"Name\", \"zip code tabulation area\": \"Zip_Codes\"})\n",
    "#convert Zip Codes to numeric, in order to merge later\n",
    "census_pd.Zip_Codes= pd.to_numeric(census_pd.Zip_Codes)\n",
    "census_pd.head()"
   ]
  },
  {
   "cell_type": "code",
   "execution_count": null,
   "metadata": {},
   "outputs": [],
   "source": [
    "# Save as a csv\n",
    "# Note to avoid any issues later, use encoding=\"utf-8\"\n",
    "census_pd.to_csv(\"census_data.csv\", encoding=\"utf-8\", index=False)"
   ]
  },
  {
   "cell_type": "code",
   "execution_count": null,
   "metadata": {},
   "outputs": [],
   "source": [
    "# merge Zip DF with Census DF\n",
    "zip_census_merge= pd.merge(county_zip_df,census_pd, on=\"Zip_Codes\")\n",
    "zip_census_merge.head()"
   ]
  },
  {
   "cell_type": "code",
   "execution_count": null,
   "metadata": {},
   "outputs": [],
   "source": [
    "#getting the top ten household incomes\n",
    "sorted_max = zip_census_merge.sort_values('Household Income', ascending=False)\n",
    "max = sorted_max[0:10]\n",
    "max"
   ]
  },
  {
   "cell_type": "code",
   "execution_count": null,
   "metadata": {},
   "outputs": [],
   "source": [
    "# getting the ten lowest incomes \n",
    "sorted_min = zip_census_merge.sort_values('Household Income', ascending=True)\n",
    "sorted_min.head(5)"
   ]
  },
  {
   "cell_type": "code",
   "execution_count": null,
   "metadata": {},
   "outputs": [],
   "source": [
    "#dropping the first three rows for better data\n",
    "new_sorted_min = sorted_min.iloc[3:]\n",
    "new_sorted_min\n",
    "min = new_sorted_min[0:10]\n",
    "min"
   ]
  },
  {
   "cell_type": "code",
   "execution_count": null,
   "metadata": {},
   "outputs": [],
   "source": [
    "max.head()"
   ]
  },
  {
   "cell_type": "code",
   "execution_count": null,
   "metadata": {},
   "outputs": [],
   "source": [
    "max['Zip_Codes']"
   ]
  },
  {
   "cell_type": "code",
   "execution_count": null,
   "metadata": {},
   "outputs": [],
   "source": [
    "users = max['Household Income']\n",
    "x_axis = np.arange(len(users))\n",
    "plt.bar(x_axis, users, color='teal', alpha=0.5, align=\"center\")\n",
    "tick_locations = [value for value in x_axis]\n",
    "plt.xticks(tick_locations,['76092', '75225', '76034', '75022', '75182', '75078', '76226', '75205', '75094', '75013'], rotation=45, ha='right')\n",
    "plt.title(\"Top 10 Household Incomes By Zip Code\", fontsize=18, fontweight='bold')\n",
    "plt.xlabel(\"Zip Codes\", fontsize=14)\n",
    "plt.ylabel(\"Household Income\", fontsize=14)\n",
    "plt.show()"
   ]
  },
  {
   "cell_type": "code",
   "execution_count": null,
   "metadata": {},
   "outputs": [],
   "source": [
    "s_max = max.sort_values('Population', ascending=False)\n",
    "s_max.head(10)"
   ]
  },
  {
   "cell_type": "code",
   "execution_count": null,
   "metadata": {},
   "outputs": [],
   "source": [
    "s_max['Zip_Codes']"
   ]
  },
  {
   "cell_type": "code",
   "execution_count": null,
   "metadata": {},
   "outputs": [],
   "source": [
    "users = s_max['Population']\n",
    "x_axis = np.arange(len(users))\n",
    "plt.bar(x_axis, users, color='darkblue', alpha=0.5, align=\"center\")\n",
    "tick_locations = [value for value in x_axis]\n",
    "plt.xticks(tick_locations,['75013','76092','76034','76226','75022','75205','75094','75225','75078','75182'], rotation=45, ha='right')\n",
    "plt.title(\"Population Density In Top Household Incomes\", fontsize=18, fontweight='bold')\n",
    "plt.xlabel(\"Zip Codes\", fontsize=14)\n",
    "plt.ylabel(\"Population Density\", fontsize=14)\n",
    "plt.show()"
   ]
  },
  {
   "cell_type": "code",
   "execution_count": null,
   "metadata": {},
   "outputs": [],
   "source": [
    "#getting the top ten for population\n",
    "sorted_population = zip_census_merge.sort_values('Population', ascending=False)\n",
    "max = sorted_population[0:9]\n",
    "max"
   ]
  },
  {
   "cell_type": "markdown",
   "metadata": {},
   "source": [
    "# Highest Rated Cuisine Type for Market "
   ]
  },
  {
   "cell_type": "code",
   "execution_count": null,
   "metadata": {},
   "outputs": [],
   "source": [
    "cuisine_pd = pd.read_csv(\"DallasCuisineRating (1).csv\")\n",
    "#clear any null values\n",
    "cuisine_pd['rating'].dropna(inplace= True)\n",
    "cuisine_pd['rating'] = cuisine_pd['rating'].astype(object)\n",
    "cuisine_pd['rating'].dtype\n",
    "cuisine_pd.dtypes"
   ]
  },
  {
   "cell_type": "code",
   "execution_count": null,
   "metadata": {},
   "outputs": [],
   "source": [
    "ratings = cuisine_pd.sort_values('rating', ascending=False)\n",
    "rating = ratings\n",
    "rating.head()\n",
    "\n"
   ]
  },
  {
   "cell_type": "code",
   "execution_count": null,
   "metadata": {},
   "outputs": [],
   "source": [
    "plt.plot(rating['ethnicity'], rating['rating'], color = 'green', label = 'line', marker = \"o\")\n",
    "plt.rcParams['figure.figsize'] = (23,10)\n",
    "plt.xticks(rotation = 45, ha = 'right', fontsize = 14)\n",
    "plt.title(\"Average Rating Per Ethnicity\", fontsize = 24)\n",
    "plt.xlabel(\"Ethnicity\", fontsize = 20)\n",
    "plt.ylabel(\"Average Rating\", fontsize = 20)\n",
    "plt.show()"
   ]
  },
  {
   "cell_type": "code",
   "execution_count": null,
   "metadata": {},
   "outputs": [],
   "source": []
  },
  {
   "cell_type": "markdown",
   "metadata": {},
   "source": [
    "# Population DataFrame "
   ]
  },
  {
   "cell_type": "code",
   "execution_count": null,
   "metadata": {},
   "outputs": [],
   "source": [
    "# Male population data for 15-44yr olds\n",
    "male_age_data = c.acs5.get((\"NAME\", \"B01001_006E\",\"B01001_007E\",\"B01001_008E\",\"B01001_009E\",\"B01001_010E\",\"B01001_011E\",\n",
    "                      \"B01001_012E\",\"B01001_013E\",\"B01001_014E\"), {'for': 'zip code tabulation area:*'})\n",
    "\n",
    "# Female population data for 15-44yr olds\n",
    "female_age_data = c.acs5.get((\"NAME\", \"B01001_030E\",\"B01001_031E\",\"B01001_032E\",\"B01001_033E\",\"B01001_034E\",\"B01001_035E\",\n",
    "                      \"B01001_036E\",\"B01001_037E\",\"B01001_038E\"), {'for': 'zip code tabulation area:*'})\n",
    "# Convert to DataFrame\n",
    "male_pd = pd.DataFrame(male_age_data)\n",
    "male_pd= male_pd.rename(columns={\"zip code tabulation area\": \"Zip_Codes\"})\n",
    "female_pd= pd.DataFrame(female_age_data)\n",
    "female_pd= female_pd.rename(columns={\"zip code tabulation area\": \"Zip_Codes\"})"
   ]
  },
  {
   "cell_type": "code",
   "execution_count": null,
   "metadata": {},
   "outputs": [],
   "source": [
    "# Total population by gender\n",
    "male_pd[\"Total_Male\"]= male_pd.B01001_006E + male_pd.B01001_007E + male_pd.B01001_008E + male_pd.B01001_009E \\\n",
    "    + male_pd.B01001_010E + male_pd.B01001_011E + male_pd.B01001_012E + male_pd.B01001_013E + male_pd.B01001_014E\n",
    "female_pd[\"Total_Female\"]= female_pd.B01001_030E + female_pd.B01001_031E + female_pd.B01001_032E + female_pd.B01001_033E \\\n",
    "    + female_pd.B01001_034E + female_pd.B01001_035E + female_pd.B01001_036E + female_pd.B01001_037E + female_pd.B01001_038E\n",
    "\n",
    "# merge Male and Female df's\n",
    "gender_merge= pd.merge(male_pd,female_pd, on=\"Zip_Codes\")\n",
    "\n",
    "# calculate new column for total 15-44 yr olds\n",
    "gender_merge.loc[:,\"Pop_15to44\"]=gender_merge.Total_Male + gender_merge.Total_Female\n",
    "\n",
    "# filter DF to include only Total and Zip Codes\n",
    "gender_df = gender_merge[[\"Pop_15to44\", \"Zip_Codes\"]]\n",
    "\n",
    "# convert Zip_codes to numeric\n",
    "gender_df.Zip_Codes= pd.to_numeric(gender_df.Zip_Codes)\n",
    "\n",
    "# merge gender_df with zip_census_merge\n",
    "demographic_df = pd.merge(zip_census_merge,gender_df, on=\"Zip_Codes\")\n",
    "demographic_df.head(10)"
   ]
  },
  {
   "cell_type": "code",
   "execution_count": null,
   "metadata": {},
   "outputs": [],
   "source": [
    "# Create a new DF and grabbing the Location Data to check for 0\n",
    "newdf=demographic_df[['City','Lat','Lon','Pop_15to44','Population']]\n",
    "newdf = newdf[newdf.Pop_15to44 != 0]\n",
    "newdf.head()"
   ]
  },
  {
   "cell_type": "markdown",
   "metadata": {},
   "source": [
    "# Create a Heatmap of Popluation for Market Areas "
   ]
  },
  {
   "cell_type": "code",
   "execution_count": null,
   "metadata": {},
   "outputs": [],
   "source": [
    "# Configure gmaps with API key\n",
    "gmaps.configure(api_key=gkey)"
   ]
  },
  {
   "cell_type": "code",
   "execution_count": null,
   "metadata": {},
   "outputs": [],
   "source": [
    "pop_rate = newdf['Population'] / 10000\n",
    "coord_pair = [(xy) for xy in zip(newdf.Lat, newdf.Lon)]\n",
    "newdf[\"Coordinates\"]= coord_pair\n",
    "\n",
    "locations = newdf[\"Coordinates\"]\n",
    "newdf.head()"
   ]
  },
  {
   "cell_type": "code",
   "execution_count": null,
   "metadata": {},
   "outputs": [],
   "source": [
    "figure_layout={\n",
    "   'width': '800px',\n",
    "   'height': '800px',\n",
    "   'border': '1px solid black',\n",
    "   'padding': '1px'\n",
    "}\n",
    "fig = gmaps.figure(map_type=\"TERRAIN\", layout=figure_layout)\n",
    "heat_layer= gmaps.heatmap_layer(locations,weights = newdf.Population,\n",
    "                        dissipating=False, max_intensity=.001,\n",
    "                       point_radius=.050)\n",
    "\n",
    "fig.add_layer(heat_layer)\n",
    "fig"
   ]
  },
  {
   "cell_type": "markdown",
   "metadata": {},
   "source": [
    "# Count of Nearby Restaurants for the Top Zip Codes "
   ]
  },
  {
   "cell_type": "code",
   "execution_count": null,
   "metadata": {},
   "outputs": [],
   "source": [
    "# geocoordinates\n",
    "target_coordinates = \"33.12,-96.69\" # TOP ZIP CODE BY HOUSEHLD INCOME \n",
    "target_radius = 1\n",
    "target_type = \"restaurant\"\n",
    "\n",
    "# set up a parameters dictionary\n",
    "params = {\n",
    "    \"location\": target_coordinates,\n",
    "    \"radius\": target_radius,\n",
    "    \"type\": target_type,\n",
    "    \"key\": gkey\n",
    "}\n",
    "\n",
    "# base url\n",
    "base_url = \"https://maps.googleapis.com/maps/api/place/nearbysearch/json\"\n",
    "\n",
    "# run a request using our params dictionary\n",
    "response = requests.get(base_url, params=params)\n",
    "\n",
    "# convert response to json\n",
    "places_count = response.json()\n",
    "\n",
    "# Print the json (pretty printed)\n",
    "len(json.dumps(places_count, sort_keys=True))"
   ]
  },
  {
   "cell_type": "code",
   "execution_count": null,
   "metadata": {},
   "outputs": [],
   "source": []
  },
  {
   "cell_type": "code",
   "execution_count": null,
   "metadata": {},
   "outputs": [],
   "source": []
  },
  {
   "cell_type": "code",
   "execution_count": null,
   "metadata": {},
   "outputs": [],
   "source": [
    "# geocoordinates\n",
    "target_coordinates = \"32.7766642,-96.79698789999999\" # Coordinates for Dallas, TX \n",
    "target_radius = 5\n",
    "target_type = \"restaurant\"\n",
    "\n",
    "# set up a parameters dictionary\n",
    "params = {\n",
    "    \"location\": target_coordinates,\n",
    "    \"radius\": target_radius,\n",
    "    \"type\": target_type,\n",
    "    \"key\": gkey\n",
    "}\n",
    "\n",
    "# base url\n",
    "base_url = \"https://maps.googleapis.com/maps/api/place/nearbysearch/json\"\n",
    "\n",
    "# run a request using our params dictionary\n",
    "response = requests.get(base_url, params=params)\n",
    "\n",
    "# convert response to json\n",
    "places_count = response.json()\n",
    "\n",
    "# Print the json (pretty printed)\n",
    "len(json.dumps(places, sort_keys=True))"
   ]
  },
  {
   "cell_type": "code",
   "execution_count": null,
   "metadata": {},
   "outputs": [],
   "source": []
  },
  {
   "cell_type": "code",
   "execution_count": null,
   "metadata": {},
   "outputs": [],
   "source": []
  },
  {
   "cell_type": "code",
   "execution_count": null,
   "metadata": {},
   "outputs": [],
   "source": []
  }
 ],
 "metadata": {
  "kernelspec": {
   "display_name": "Python 3",
   "language": "python",
   "name": "python3"
  },
  "language_info": {
   "codemirror_mode": {
    "name": "ipython",
    "version": 3
   },
   "file_extension": ".py",
   "mimetype": "text/x-python",
   "name": "python",
   "nbconvert_exporter": "python",
   "pygments_lexer": "ipython3",
   "version": "3.7.3"
  }
 },
 "nbformat": 4,
 "nbformat_minor": 2
}
