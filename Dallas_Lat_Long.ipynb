{
 "cells": [
  {
   "cell_type": "code",
   "execution_count": 2,
   "metadata": {},
   "outputs": [],
   "source": [
    "# Dependencies\n",
    "import requests\n",
    "import json\n",
    "\n",
    "# Google developer API key\n",
    "from jconfig import gkey"
   ]
  },
  {
   "cell_type": "markdown",
   "metadata": {},
   "source": [
    "# FIND DALLAS COORD"
   ]
  },
  {
   "cell_type": "code",
   "execution_count": 3,
   "metadata": {},
   "outputs": [],
   "source": [
    "# Target city\n",
    "target_city = \"Dallas, Texas\"\n",
    "\n",
    "# Build the endpoint URL\n",
    "target_url = ('https://maps.googleapis.com/maps/api/geocode/json?'\n",
    "    'address={0}&key={1}').format(target_city, gkey)"
   ]
  },
  {
   "cell_type": "code",
   "execution_count": 4,
   "metadata": {},
   "outputs": [
    {
     "name": "stdout",
     "output_type": "stream",
     "text": [
      "{'results': [{'address_components': [{'long_name': 'Dallas', 'short_name': 'Dallas', 'types': ['locality', 'political']}, {'long_name': 'Dallas County', 'short_name': 'Dallas County', 'types': ['administrative_area_level_2', 'political']}, {'long_name': 'Texas', 'short_name': 'TX', 'types': ['administrative_area_level_1', 'political']}, {'long_name': 'United States', 'short_name': 'US', 'types': ['country', 'political']}], 'formatted_address': 'Dallas, TX, USA', 'geometry': {'bounds': {'northeast': {'lat': 33.0237921, 'lng': -96.4637379}, 'southwest': {'lat': 32.617537, 'lng': -96.999347}}, 'location': {'lat': 32.7766642, 'lng': -96.79698789999999}, 'location_type': 'APPROXIMATE', 'viewport': {'northeast': {'lat': 33.0237921, 'lng': -96.4637379}, 'southwest': {'lat': 32.617537, 'lng': -96.999347}}}, 'place_id': 'ChIJS5dFe_cZTIYRj2dH9qSb7Lk', 'types': ['locality', 'political']}], 'status': 'OK'}\n"
     ]
    }
   ],
   "source": [
    "# Run a request to endpoint and convert result to json\n",
    "geo_data = requests.get(target_url).json()\n",
    "\n",
    "# Print the json\n",
    "print(geo_data)"
   ]
  },
  {
   "cell_type": "code",
   "execution_count": 5,
   "metadata": {},
   "outputs": [
    {
     "name": "stdout",
     "output_type": "stream",
     "text": [
      "\n",
      "    City: Dallas, Texas\n",
      "    Latitude: 32.7766642\n",
      "    Longitude: -96.79698789999999\n",
      "    \n"
     ]
    }
   ],
   "source": [
    "# Extract latitude and longitude\n",
    "lat = geo_data[\"results\"][0][\"geometry\"][\"location\"][\"lat\"]\n",
    "lng = geo_data[\"results\"][0][\"geometry\"][\"location\"][\"lng\"]\n",
    "\n",
    "# Print the latitude and longitude\n",
    "print('''\n",
    "    City: {0}\n",
    "    Latitude: {1}\n",
    "    Longitude: {2}\n",
    "    '''.format(target_city, lat, lng))"
   ]
  },
  {
   "cell_type": "markdown",
   "metadata": {},
   "source": [
    "# FIND HOUSTON COORD "
   ]
  },
  {
   "cell_type": "code",
   "execution_count": 6,
   "metadata": {},
   "outputs": [],
   "source": [
    "# Target city\n",
    "target_city = \"Houston, Texas\"\n",
    "\n",
    "# Build the endpoint URL\n",
    "target_url = ('https://maps.googleapis.com/maps/api/geocode/json?'\n",
    "    'address={0}&key={1}').format(target_city, gkey)"
   ]
  },
  {
   "cell_type": "code",
   "execution_count": 7,
   "metadata": {},
   "outputs": [
    {
     "name": "stdout",
     "output_type": "stream",
     "text": [
      "{'results': [{'address_components': [{'long_name': 'Houston', 'short_name': 'Houston', 'types': ['locality', 'political']}, {'long_name': 'Harris County', 'short_name': 'Harris County', 'types': ['administrative_area_level_2', 'political']}, {'long_name': 'Texas', 'short_name': 'TX', 'types': ['administrative_area_level_1', 'political']}, {'long_name': 'United States', 'short_name': 'US', 'types': ['country', 'political']}], 'formatted_address': 'Houston, TX, USA', 'geometry': {'bounds': {'northeast': {'lat': 30.1107319, 'lng': -95.014496}, 'southwest': {'lat': 29.523624, 'lng': -95.78808690000001}}, 'location': {'lat': 29.7604267, 'lng': -95.3698028}, 'location_type': 'APPROXIMATE', 'viewport': {'northeast': {'lat': 30.1107319, 'lng': -95.014496}, 'southwest': {'lat': 29.523624, 'lng': -95.78808690000001}}}, 'place_id': 'ChIJAYWNSLS4QIYROwVl894CDco', 'types': ['locality', 'political']}], 'status': 'OK'}\n"
     ]
    }
   ],
   "source": [
    "# Run a request to endpoint and convert result to json\n",
    "geo_data = requests.get(target_url).json()\n",
    "\n",
    "# Print the json\n",
    "print(geo_data)"
   ]
  },
  {
   "cell_type": "code",
   "execution_count": 8,
   "metadata": {},
   "outputs": [
    {
     "name": "stdout",
     "output_type": "stream",
     "text": [
      "\n",
      "    City: Houston, Texas\n",
      "    Latitude: 29.7604267\n",
      "    Longitude: -95.3698028\n",
      "    \n"
     ]
    }
   ],
   "source": [
    "# Extract latitude and longitude\n",
    "lat = geo_data[\"results\"][0][\"geometry\"][\"location\"][\"lat\"]\n",
    "lng = geo_data[\"results\"][0][\"geometry\"][\"location\"][\"lng\"]\n",
    "\n",
    "# Print the latitude and longitude\n",
    "print('''\n",
    "    City: {0}\n",
    "    Latitude: {1}\n",
    "    Longitude: {2}\n",
    "    '''.format(target_city, lat, lng))"
   ]
  },
  {
   "cell_type": "markdown",
   "metadata": {},
   "source": [
    "# FIND AUSTIN COORD "
   ]
  },
  {
   "cell_type": "code",
   "execution_count": 9,
   "metadata": {},
   "outputs": [],
   "source": [
    "# Target city\n",
    "target_city = \"Austin, Texas\"\n",
    "\n",
    "# Build the endpoint URL\n",
    "target_url = ('https://maps.googleapis.com/maps/api/geocode/json?'\n",
    "    'address={0}&key={1}').format(target_city, gkey)"
   ]
  },
  {
   "cell_type": "code",
   "execution_count": 10,
   "metadata": {},
   "outputs": [
    {
     "name": "stdout",
     "output_type": "stream",
     "text": [
      "{'results': [{'address_components': [{'long_name': 'Austin', 'short_name': 'Austin', 'types': ['locality', 'political']}, {'long_name': 'Travis County', 'short_name': 'Travis County', 'types': ['administrative_area_level_2', 'political']}, {'long_name': 'Texas', 'short_name': 'TX', 'types': ['administrative_area_level_1', 'political']}, {'long_name': 'United States', 'short_name': 'US', 'types': ['country', 'political']}], 'formatted_address': 'Austin, TX, USA', 'geometry': {'bounds': {'northeast': {'lat': 30.5168629, 'lng': -97.5684199}, 'southwest': {'lat': 30.0986589, 'lng': -97.9383829}}, 'location': {'lat': 30.267153, 'lng': -97.7430608}, 'location_type': 'APPROXIMATE', 'viewport': {'northeast': {'lat': 30.5168629, 'lng': -97.5684199}, 'southwest': {'lat': 30.0986589, 'lng': -97.9383829}}}, 'place_id': 'ChIJLwPMoJm1RIYRetVp1EtGm10', 'types': ['locality', 'political']}], 'status': 'OK'}\n"
     ]
    }
   ],
   "source": [
    "# Run a request to endpoint and convert result to json\n",
    "geo_data = requests.get(target_url).json()\n",
    "\n",
    "# Print the json\n",
    "print(geo_data)"
   ]
  },
  {
   "cell_type": "code",
   "execution_count": 11,
   "metadata": {},
   "outputs": [
    {
     "name": "stdout",
     "output_type": "stream",
     "text": [
      "\n",
      "    City: Austin, Texas\n",
      "    Latitude: 30.267153\n",
      "    Longitude: -97.7430608\n",
      "    \n"
     ]
    }
   ],
   "source": [
    "# Extract latitude and longitude\n",
    "lat = geo_data[\"results\"][0][\"geometry\"][\"location\"][\"lat\"]\n",
    "lng = geo_data[\"results\"][0][\"geometry\"][\"location\"][\"lng\"]\n",
    "\n",
    "# Print the latitude and longitude\n",
    "print('''\n",
    "    City: {0}\n",
    "    Latitude: {1}\n",
    "    Longitude: {2}\n",
    "    '''.format(target_city, lat, lng))"
   ]
  },
  {
   "cell_type": "markdown",
   "metadata": {},
   "source": [
    "# FIND SAN ANTONIO COORD"
   ]
  },
  {
   "cell_type": "code",
   "execution_count": 12,
   "metadata": {},
   "outputs": [],
   "source": [
    "# Target city\n",
    "target_city = \"San Antonio, Texas\"\n",
    "\n",
    "# Build the endpoint URL\n",
    "target_url = ('https://maps.googleapis.com/maps/api/geocode/json?'\n",
    "    'address={0}&key={1}').format(target_city, gkey)"
   ]
  },
  {
   "cell_type": "code",
   "execution_count": 13,
   "metadata": {},
   "outputs": [
    {
     "name": "stdout",
     "output_type": "stream",
     "text": [
      "{'results': [{'address_components': [{'long_name': 'San Antonio', 'short_name': 'San Antonio', 'types': ['locality', 'political']}, {'long_name': 'Bexar County', 'short_name': 'Bexar County', 'types': ['administrative_area_level_2', 'political']}, {'long_name': 'Texas', 'short_name': 'TX', 'types': ['administrative_area_level_1', 'political']}, {'long_name': 'United States', 'short_name': 'US', 'types': ['country', 'political']}], 'formatted_address': 'San Antonio, TX, USA', 'geometry': {'bounds': {'northeast': {'lat': 29.73872, 'lng': -98.22295799999999}, 'southwest': {'lat': 29.2241411, 'lng': -98.8058509}}, 'location': {'lat': 29.4241219, 'lng': -98.49362819999999}, 'location_type': 'APPROXIMATE', 'viewport': {'northeast': {'lat': 29.73872, 'lng': -98.22295799999999}, 'southwest': {'lat': 29.2241411, 'lng': -98.8058509}}}, 'place_id': 'ChIJrw7QBK9YXIYRvBagEDvhVgg', 'types': ['locality', 'political']}], 'status': 'OK'}\n"
     ]
    }
   ],
   "source": [
    "# Run a request to endpoint and convert result to json\n",
    "geo_data = requests.get(target_url).json()\n",
    "\n",
    "# Print the json\n",
    "print(geo_data)"
   ]
  },
  {
   "cell_type": "code",
   "execution_count": 14,
   "metadata": {},
   "outputs": [
    {
     "name": "stdout",
     "output_type": "stream",
     "text": [
      "\n",
      "    City: San Antonio, Texas\n",
      "    Latitude: 29.4241219\n",
      "    Longitude: -98.49362819999999\n",
      "    \n"
     ]
    }
   ],
   "source": [
    "# Extract latitude and longitude\n",
    "lat = geo_data[\"results\"][0][\"geometry\"][\"location\"][\"lat\"]\n",
    "lng = geo_data[\"results\"][0][\"geometry\"][\"location\"][\"lng\"]\n",
    "\n",
    "# Print the latitude and longitude\n",
    "print('''\n",
    "    City: {0}\n",
    "    Latitude: {1}\n",
    "    Longitude: {2}\n",
    "    '''.format(target_city, lat, lng))"
   ]
  },
  {
   "cell_type": "markdown",
   "metadata": {},
   "source": [
    "# FIND EL PASO COORD "
   ]
  },
  {
   "cell_type": "code",
   "execution_count": 15,
   "metadata": {},
   "outputs": [],
   "source": [
    "# Target city\n",
    "target_city = \"El Paso, Texas\"\n",
    "\n",
    "# Build the endpoint URL\n",
    "target_url = ('https://maps.googleapis.com/maps/api/geocode/json?'\n",
    "    'address={0}&key={1}').format(target_city, gkey)"
   ]
  },
  {
   "cell_type": "code",
   "execution_count": 16,
   "metadata": {},
   "outputs": [
    {
     "name": "stdout",
     "output_type": "stream",
     "text": [
      "{'results': [{'address_components': [{'long_name': 'El Paso', 'short_name': 'El Paso', 'types': ['locality', 'political']}, {'long_name': 'El Paso County', 'short_name': 'El Paso County', 'types': ['administrative_area_level_2', 'political']}, {'long_name': 'Texas', 'short_name': 'TX', 'types': ['administrative_area_level_1', 'political']}, {'long_name': 'United States', 'short_name': 'US', 'types': ['country', 'political']}], 'formatted_address': 'El Paso, TX, USA', 'geometry': {'bounds': {'northeast': {'lat': 32.001481, 'lng': -106.2131129}, 'southwest': {'lat': 31.6207851, 'lng': -106.6359219}}, 'location': {'lat': 31.7618778, 'lng': -106.4850217}, 'location_type': 'APPROXIMATE', 'viewport': {'northeast': {'lat': 32.001481, 'lng': -106.2131129}, 'southwest': {'lat': 31.6207851, 'lng': -106.6359219}}}, 'place_id': 'ChIJaTv-xYs_54YRIgKdq-OEkeM', 'types': ['locality', 'political']}], 'status': 'OK'}\n"
     ]
    }
   ],
   "source": [
    "# Run a request to endpoint and convert result to json\n",
    "geo_data = requests.get(target_url).json()\n",
    "\n",
    "# Print the json\n",
    "print(geo_data)"
   ]
  },
  {
   "cell_type": "code",
   "execution_count": 17,
   "metadata": {},
   "outputs": [
    {
     "name": "stdout",
     "output_type": "stream",
     "text": [
      "\n",
      "    City: El Paso, Texas\n",
      "    Latitude: 31.7618778\n",
      "    Longitude: -106.4850217\n",
      "    \n"
     ]
    }
   ],
   "source": [
    "# Extract latitude and longitude\n",
    "lat = geo_data[\"results\"][0][\"geometry\"][\"location\"][\"lat\"]\n",
    "lng = geo_data[\"results\"][0][\"geometry\"][\"location\"][\"lng\"]\n",
    "\n",
    "# Print the latitude and longitude\n",
    "print('''\n",
    "    City: {0}\n",
    "    Latitude: {1}\n",
    "    Longitude: {2}\n",
    "    '''.format(target_city, lat, lng))"
   ]
  },
  {
   "cell_type": "code",
   "execution_count": null,
   "metadata": {},
   "outputs": [],
   "source": []
  }
 ],
 "metadata": {
  "kernelspec": {
   "display_name": "Python [conda env:PythonData]",
   "language": "python",
   "name": "conda-env-PythonData-py"
  },
  "language_info": {
   "codemirror_mode": {
    "name": "ipython",
    "version": 3
   },
   "file_extension": ".py",
   "mimetype": "text/x-python",
   "name": "python",
   "nbconvert_exporter": "python",
   "pygments_lexer": "ipython3",
   "version": "3.6.8"
  }
 },
 "nbformat": 4,
 "nbformat_minor": 2
}
