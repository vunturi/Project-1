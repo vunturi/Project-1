{
 "cells": [
  {
   "cell_type": "code",
   "execution_count": 1,
   "metadata": {},
   "outputs": [
    {
     "data": {
      "text/html": [
       "<style>.container { width:95% !important; }</style>"
      ],
      "text/plain": [
       "<IPython.core.display.HTML object>"
      ]
     },
     "metadata": {},
     "output_type": "display_data"
    }
   ],
   "source": [
    "import numpy as np\n",
    "import pandas as pd\n",
    "import json\n",
    "import requests\n",
    "from pprint import pprint\n",
    "from IPython.core.display import display, HTML\n",
    "display(HTML(\"<style>.container { width:95% !important; }</style>\"))"
   ]
  },
  {
   "cell_type": "code",
   "execution_count": 2,
   "metadata": {},
   "outputs": [],
   "source": [
    "api_key='zb0GcvgfwyjRcY9Rw-V7CCINzDGu8fCRO0_5z6EAN0T77jh1n7Q8Xk87pi33DOK2a0pS19XzrsODFhojo1xyWWkz1D0UTOtW6IeFv5jdoml6ROzSYLBYFddnLtMmXXYx'\n",
    "headers = {'Authorization': 'Bearer %s' % api_key}"
   ]
  },
  {
   "cell_type": "code",
   "execution_count": 3,
   "metadata": {},
   "outputs": [],
   "source": [
    "# URL for GET requests to retrieve restaurant data\n",
    "url = 'https://api.yelp.com/v3/businesses/search'\n",
    "params = {'term':['chinese','cuban','czech','french','german','greek','haitian','hungarian','indian','indonesian','irish','israeli','italian','japanese','jewish','korean','lebanese','mexican','new american','pakistani','polish','russian','scandinavian','scottish','soul food','spanish','thai','turkish','ukrainian','vietnamese'], 'location':['Dallas', 'San Antonio', 'Austin', 'Houston'], 'limit': 50, 'delivery': 'food delivery'}"
   ]
  },
  {
   "cell_type": "code",
   "execution_count": 4,
   "metadata": {},
   "outputs": [],
   "source": [
    "# Making a get request to the API\n",
    "req = requests.get(url, params=params, headers=headers)\n",
    "response = req"
   ]
  },
  {
   "cell_type": "code",
   "execution_count": 5,
   "metadata": {},
   "outputs": [],
   "source": [
    "def get_businesses(location, term, api_key):\n",
    "    headers = {'Authorization': 'Bearer %s' % api_key}\n",
    "    url = 'https://api.yelp.com/v3/businesses/search'\n",
    "    data = []\n",
    "    for offset in range(0, 1000, 50):\n",
    "        params = {\n",
    "            'limit': 50, \n",
    "            'location': location.replace(' ', '+'),\n",
    "            'term': term.replace(' ', '+'),\n",
    "            'offset': offset\n",
    "        }\n",
    "        response = requests.get(url, headers=headers, params=params)\n",
    "        if response.status_code == 200:\n",
    "            data += response.json()['businesses']\n",
    "        elif response.status_code == 400:\n",
    "            print('400 Bad Request')\n",
    "            break\n",
    "    return data"
   ]
  },
  {
   "cell_type": "code",
   "execution_count": 6,
   "metadata": {},
   "outputs": [
    {
     "name": "stdout",
     "output_type": "stream",
     "text": [
      "<Response [400]>\n"
     ]
    }
   ],
   "source": [
    "# Print the response object to the console\n",
    "print(requests.get(url))"
   ]
  },
  {
   "cell_type": "code",
   "execution_count": 7,
   "metadata": {},
   "outputs": [],
   "source": [
    "# Storing the JSON response within a variable\n",
    "json_data = response.json()"
   ]
  },
  {
   "cell_type": "code",
   "execution_count": 8,
   "metadata": {},
   "outputs": [],
   "source": [
    "# Retrieving data and converting it into JSON\n",
    "response_json = json.loads(req.text)"
   ]
  },
  {
   "cell_type": "code",
   "execution_count": 9,
   "metadata": {},
   "outputs": [
    {
     "name": "stdout",
     "output_type": "stream",
     "text": [
      "{'error': {'code': 'VALIDATION_ERROR', 'description': \"['chinese', 'cuban', 'czech', 'french', 'german', 'greek', 'haitian', 'hungarian', 'indian', 'indonesian', 'irish', 'israeli', 'italian', 'japanese', 'jewish', 'korean', 'lebanese', 'mexican', 'new american', 'pakistani', 'polish', 'russian', 'scandinavian', 'scottish', 'soul food', 'spanish', 'thai', 'turkish', 'ukrainian', 'vietnamese'] is not of type 'string'\", 'field': 'term', 'instance': ['chinese', 'cuban', 'czech', 'french', 'german', 'greek', 'haitian', 'hungarian', 'indian', 'indonesian', 'irish', 'israeli', 'italian', 'japanese', 'jewish', 'korean', 'lebanese', 'mexican', 'new american', 'pakistani', 'polish', 'russian', 'scandinavian', 'scottish', 'soul food', 'spanish', 'thai', 'turkish', 'ukrainian', 'vietnamese']}}\n"
     ]
    }
   ],
   "source": [
    "print(response_json)"
   ]
  },
  {
   "cell_type": "code",
   "execution_count": null,
   "metadata": {},
   "outputs": [],
   "source": []
  }
 ],
 "metadata": {
  "kernelspec": {
   "display_name": "Python 3",
   "language": "python",
   "name": "python3"
  },
  "language_info": {
   "codemirror_mode": {
    "name": "ipython",
    "version": 3
   },
   "file_extension": ".py",
   "mimetype": "text/x-python",
   "name": "python",
   "nbconvert_exporter": "python",
   "pygments_lexer": "ipython3",
   "version": "3.7.1"
  }
 },
 "nbformat": 4,
 "nbformat_minor": 2
}
