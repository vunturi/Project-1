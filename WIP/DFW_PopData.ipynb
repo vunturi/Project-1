{
 "cells": [
  {
   "cell_type": "code",
   "execution_count": 1,
   "metadata": {},
   "outputs": [],
   "source": [
    "import numpy as np\n",
    "import pandas as pd\n",
    "import json\n",
    "import matplotlib.pyplot as plt\n",
    "import requests\n",
    "import gmaps\n",
    "from uszipcode import SearchEngine, SimpleZipcode, Zipcode\n",
    "from census import Census\n",
    "from scipy.stats import sem\n",
    "\n",
    "import warnings\n",
    "warnings.filterwarnings('ignore')"
   ]
  },
  {
   "cell_type": "code",
   "execution_count": 3,
   "metadata": {},
   "outputs": [],
   "source": [
    "#read in zip.csv\n",
    "county_zip_df = pd.read_csv(\"CityCounty_zip_data.csv\")\n",
    "census_pd= pd.read_csv(\"CityCounty_zip_data.csv\")"
   ]
  },
  {
   "cell_type": "code",
   "execution_count": 8,
   "metadata": {},
   "outputs": [
    {
     "data": {
      "text/html": [
       "<div>\n",
       "<style scoped>\n",
       "    .dataframe tbody tr th:only-of-type {\n",
       "        vertical-align: middle;\n",
       "    }\n",
       "\n",
       "    .dataframe tbody tr th {\n",
       "        vertical-align: top;\n",
       "    }\n",
       "\n",
       "    .dataframe thead th {\n",
       "        text-align: right;\n",
       "    }\n",
       "</style>\n",
       "<table border=\"1\" class=\"dataframe\">\n",
       "  <thead>\n",
       "    <tr style=\"text-align: right;\">\n",
       "      <th></th>\n",
       "      <th>CityCounty</th>\n",
       "      <th>Zip_Codes</th>\n",
       "      <th>LatCounty</th>\n",
       "      <th>LonCounty</th>\n",
       "      <th>CityCensus</th>\n",
       "      <th>LatCensus</th>\n",
       "      <th>LonCensus</th>\n",
       "    </tr>\n",
       "  </thead>\n",
       "  <tbody>\n",
       "    <tr>\n",
       "      <th>0</th>\n",
       "      <td>Addison</td>\n",
       "      <td>75001</td>\n",
       "      <td>32.96</td>\n",
       "      <td>-96.84</td>\n",
       "      <td>Addison</td>\n",
       "      <td>32.96</td>\n",
       "      <td>-96.84</td>\n",
       "    </tr>\n",
       "    <tr>\n",
       "      <th>1</th>\n",
       "      <td>Allen</td>\n",
       "      <td>75002</td>\n",
       "      <td>33.08</td>\n",
       "      <td>-96.61</td>\n",
       "      <td>Allen</td>\n",
       "      <td>33.08</td>\n",
       "      <td>-96.61</td>\n",
       "    </tr>\n",
       "    <tr>\n",
       "      <th>2</th>\n",
       "      <td>Carrollton</td>\n",
       "      <td>75006</td>\n",
       "      <td>32.95</td>\n",
       "      <td>-96.89</td>\n",
       "      <td>Carrollton</td>\n",
       "      <td>32.95</td>\n",
       "      <td>-96.89</td>\n",
       "    </tr>\n",
       "    <tr>\n",
       "      <th>3</th>\n",
       "      <td>Carrollton</td>\n",
       "      <td>75007</td>\n",
       "      <td>33.00</td>\n",
       "      <td>-96.90</td>\n",
       "      <td>Carrollton</td>\n",
       "      <td>33.00</td>\n",
       "      <td>-96.90</td>\n",
       "    </tr>\n",
       "    <tr>\n",
       "      <th>4</th>\n",
       "      <td>Celina</td>\n",
       "      <td>75009</td>\n",
       "      <td>33.30</td>\n",
       "      <td>-96.80</td>\n",
       "      <td>Celina</td>\n",
       "      <td>33.30</td>\n",
       "      <td>-96.80</td>\n",
       "    </tr>\n",
       "    <tr>\n",
       "      <th>5</th>\n",
       "      <td>Carrollton</td>\n",
       "      <td>75010</td>\n",
       "      <td>33.03</td>\n",
       "      <td>-96.90</td>\n",
       "      <td>Carrollton</td>\n",
       "      <td>33.03</td>\n",
       "      <td>-96.90</td>\n",
       "    </tr>\n",
       "    <tr>\n",
       "      <th>6</th>\n",
       "      <td>Allen</td>\n",
       "      <td>75013</td>\n",
       "      <td>33.12</td>\n",
       "      <td>-96.69</td>\n",
       "      <td>Allen</td>\n",
       "      <td>33.12</td>\n",
       "      <td>-96.69</td>\n",
       "    </tr>\n",
       "    <tr>\n",
       "      <th>7</th>\n",
       "      <td>Coppell</td>\n",
       "      <td>75019</td>\n",
       "      <td>32.96</td>\n",
       "      <td>-96.98</td>\n",
       "      <td>Coppell</td>\n",
       "      <td>32.96</td>\n",
       "      <td>-96.98</td>\n",
       "    </tr>\n",
       "    <tr>\n",
       "      <th>8</th>\n",
       "      <td>Flower Mound</td>\n",
       "      <td>75022</td>\n",
       "      <td>33.03</td>\n",
       "      <td>-97.12</td>\n",
       "      <td>Flower Mound</td>\n",
       "      <td>33.03</td>\n",
       "      <td>-97.12</td>\n",
       "    </tr>\n",
       "    <tr>\n",
       "      <th>9</th>\n",
       "      <td>Plano</td>\n",
       "      <td>75023</td>\n",
       "      <td>33.05</td>\n",
       "      <td>-96.73</td>\n",
       "      <td>Plano</td>\n",
       "      <td>33.05</td>\n",
       "      <td>-96.73</td>\n",
       "    </tr>\n",
       "  </tbody>\n",
       "</table>\n",
       "</div>"
      ],
      "text/plain": [
       "     CityCounty  Zip_Codes  LatCounty  LonCounty    CityCensus  LatCensus  \\\n",
       "0       Addison      75001      32.96     -96.84       Addison      32.96   \n",
       "1         Allen      75002      33.08     -96.61         Allen      33.08   \n",
       "2    Carrollton      75006      32.95     -96.89    Carrollton      32.95   \n",
       "3    Carrollton      75007      33.00     -96.90    Carrollton      33.00   \n",
       "4        Celina      75009      33.30     -96.80        Celina      33.30   \n",
       "5    Carrollton      75010      33.03     -96.90    Carrollton      33.03   \n",
       "6         Allen      75013      33.12     -96.69         Allen      33.12   \n",
       "7       Coppell      75019      32.96     -96.98       Coppell      32.96   \n",
       "8  Flower Mound      75022      33.03     -97.12  Flower Mound      33.03   \n",
       "9         Plano      75023      33.05     -96.73         Plano      33.05   \n",
       "\n",
       "   LonCensus  \n",
       "0     -96.84  \n",
       "1     -96.61  \n",
       "2     -96.89  \n",
       "3     -96.90  \n",
       "4     -96.80  \n",
       "5     -96.90  \n",
       "6     -96.69  \n",
       "7     -96.98  \n",
       "8     -97.12  \n",
       "9     -96.73  "
      ]
     },
     "execution_count": 8,
     "metadata": {},
     "output_type": "execute_result"
    }
   ],
   "source": [
    "# merge Zip DF with Census DF\n",
    "zip_census_merge = pd.merge(county_zip_df,census_pd, on=\"Zip_Codes\", suffixes=(\"County\", \"Census\"))\n",
    "zip_census_merge.head(10)"
   ]
  },
  {
   "cell_type": "code",
   "execution_count": null,
   "metadata": {},
   "outputs": [],
   "source": [
    "#getting the top ten household incomes\n",
    "sorted_max = zip_census_merge.sort_values('Household Income', ascending=False)\n",
    "max = sorted_max[0:10]\n",
    "max"
   ]
  },
  {
   "cell_type": "code",
   "execution_count": null,
   "metadata": {},
   "outputs": [],
   "source": [
    "# getting the ten lowest incomes \n",
    "sorted_min = zip_census_merge.sort_values('Household Income', ascending=True)\n",
    "sorted_min.head(5)"
   ]
  },
  {
   "cell_type": "code",
   "execution_count": null,
   "metadata": {},
   "outputs": [],
   "source": [
    "#dropping the first three rows for better data\n",
    "new_sorted_min = sorted_min.iloc[3:]\n",
    "new_sorted_min\n",
    "min = new_sorted_min[0:10]\n",
    "min"
   ]
  },
  {
   "cell_type": "code",
   "execution_count": null,
   "metadata": {},
   "outputs": [],
   "source": [
    "max.head()"
   ]
  },
  {
   "cell_type": "code",
   "execution_count": null,
   "metadata": {},
   "outputs": [],
   "source": [
    "max['Zip_Codes']"
   ]
  },
  {
   "cell_type": "code",
   "execution_count": null,
   "metadata": {},
   "outputs": [],
   "source": [
    "users = max['Household Income']\n",
    "x_axis = np.arange(len(users))\n",
    "plt.bar(x_axis, users, color='teal', alpha=0.5, align=\"center\")\n",
    "tick_locations = [value for value in x_axis]\n",
    "plt.xticks(tick_locations,['77010', '77005', '75225', '77401', '77094', '75182', '75205', '77345', '77059', '77007'], rotation=45, ha='right')\n",
    "plt.title(\"Top 10 Household Incomes By Zip Code\", fontsize=18, fontweight='bold')\n",
    "plt.xlabel(\"Zip Codes\", fontsize=14)\n",
    "plt.ylabel(\"Household Income\", fontsize=14)\n",
    "plt.show()"
   ]
  },
  {
   "cell_type": "code",
   "execution_count": null,
   "metadata": {},
   "outputs": [],
   "source": [
    "s_max = max.sort_values('Population', ascending=False)\n",
    "s_max.head(10)"
   ]
  },
  {
   "cell_type": "code",
   "execution_count": null,
   "metadata": {},
   "outputs": [],
   "source": [
    "s_max['Zip_Codes']"
   ]
  },
  {
   "cell_type": "code",
   "execution_count": null,
   "metadata": {},
   "outputs": [],
   "source": [
    "users = s_max['Population']\n",
    "x_axis = np.arange(len(users))\n",
    "plt.bar(x_axis, users, color='darkblue', alpha=0.5, align=\"center\")\n",
    "tick_locations = [value for value in x_axis]\n",
    "plt.xticks(tick_locations,['77007','77345','77005','75205','75225','77401','77059','77094','75182','77010'], rotation=45, ha='right')\n",
    "plt.title(\"Population Density In Top Household Incomes\", fontsize=18, fontweight='bold')\n",
    "plt.xlabel(\"Zip Codes\", fontsize=14)\n",
    "plt.ylabel(\"Population Density\", fontsize=14)\n",
    "plt.show()"
   ]
  },
  {
   "cell_type": "code",
   "execution_count": null,
   "metadata": {},
   "outputs": [],
   "source": [
    "#getting the top ten for population\n",
    "sorted_population = zip_census_merge.sort_values('Population', ascending=False)\n",
    "max = sorted_population[0:9]\n",
    "max"
   ]
  },
  {
   "cell_type": "code",
   "execution_count": null,
   "metadata": {},
   "outputs": [],
   "source": []
  },
  {
   "cell_type": "code",
   "execution_count": null,
   "metadata": {},
   "outputs": [],
   "source": []
  },
  {
   "cell_type": "code",
   "execution_count": null,
   "metadata": {},
   "outputs": [],
   "source": []
  },
  {
   "cell_type": "code",
   "execution_count": null,
   "metadata": {},
   "outputs": [],
   "source": []
  }
 ],
 "metadata": {
  "kernelspec": {
   "display_name": "Python 3",
   "language": "python",
   "name": "python3"
  },
  "language_info": {
   "codemirror_mode": {
    "name": "ipython",
    "version": 3
   },
   "file_extension": ".py",
   "mimetype": "text/x-python",
   "name": "python",
   "nbconvert_exporter": "python",
   "pygments_lexer": "ipython3",
   "version": "3.7.3"
  }
 },
 "nbformat": 4,
 "nbformat_minor": 2
}
